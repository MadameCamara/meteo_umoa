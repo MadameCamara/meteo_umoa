{
 "cells": [
  {
   "cell_type": "code",
   "execution_count": 2,
   "metadata": {},
   "outputs": [
    {
     "name": "stdout",
     "output_type": "stream",
     "text": [
      "❌ Ville ignorée : Léona (SN) — y contains previously unseen labels: 'Léona'\n",
      "❌ Ville ignorée : Cotonou (BJ) — y contains previously unseen labels: 'Cotonou'\n",
      "✅ Fichier généré : previsions_meteo_7jours_horaire.csv\n"
     ]
    }
   ],
   "source": [
    "import pandas as pd\n",
    "import numpy as np\n",
    "import joblib\n",
    "from datetime import datetime, timedelta\n",
    "\n",
    "# Charger les données réelles météo\n",
    "df = pd.read_csv(\"weather_data_umoa.csv\")\n",
    "df[\"date\"] = pd.to_datetime(df[\"date\"])\n",
    "\n",
    "# Dernière ligne de chaque ville\n",
    "last_entries = df.sort_values(\"date\").groupby(\"city\").tail(1)\n",
    "\n",
    "# Charger modèle et encodeurs\n",
    "model = joblib.load(\"meteo_model.pkl\")\n",
    "enc_city = joblib.load(\"city_encoder.pkl\")\n",
    "enc_country = joblib.load(\"country_encoder.pkl\")\n",
    "enc_desc = joblib.load(\"desc_encoder.pkl\")\n",
    "\n",
    "# Générer 7 jours × 24 heures (heure entière)\n",
    "future_data = []\n",
    "start_date = datetime.now().replace(minute=0, second=0, microsecond=0)\n",
    "\n",
    "for _, row in last_entries.iterrows():\n",
    "    try:\n",
    "        city_enc = enc_city.transform([row[\"city\"]])[0]\n",
    "        country_enc = enc_country.transform([row[\"country\"]])[0]\n",
    "    except Exception as e:\n",
    "        print(f\"❌ Ville ignorée : {row['city']} ({row['country']}) — {e}\")\n",
    "        continue\n",
    "\n",
    "    for day_offset in range(7):\n",
    "        for hour in range(24):\n",
    "            dt = start_date + timedelta(days=day_offset, hours=hour)\n",
    "            future_data.append({\n",
    "                \"latitude\": row[\"latitude\"],\n",
    "                \"longitude\": row[\"longitude\"],\n",
    "                \"hour\": dt.hour,\n",
    "                \"day\": dt.day,\n",
    "                \"month\": dt.month,\n",
    "                \"year\": dt.year,\n",
    "                \"city_enc\": city_enc,\n",
    "                \"country_enc\": country_enc,\n",
    "                \"city\": row[\"city\"],\n",
    "                \"country\": row[\"country\"],\n",
    "                \"date\": dt\n",
    "            })\n",
    "\n",
    "# Préparation et prédiction\n",
    "df_inputs = pd.DataFrame(future_data)\n",
    "X_pred = df_inputs[[\"latitude\", \"longitude\", \"hour\", \"day\", \"month\", \"year\", \"city_enc\", \"country_enc\"]]\n",
    "predictions = model.predict(X_pred)\n",
    "\n",
    "# Création du DataFrame final\n",
    "pred_df = pd.DataFrame(predictions, columns=[\n",
    "    \"temp\", \"humidity\", \"wind_speed\", \"wind_deg\", \"visibility\",\n",
    "    \"sunrise_sec\", \"sunset_sec\", \"description_enc\"\n",
    "])\n",
    "\n",
    "# Décodage\n",
    "pred_df[\"description\"] = enc_desc.inverse_transform(pred_df[\"description_enc\"].astype(int))\n",
    "pred_df[\"sunrise\"] = pd.to_datetime(pred_df[\"sunrise_sec\"], unit='s').dt.strftime(\"%H:%M\")\n",
    "pred_df[\"sunset\"] = pd.to_datetime(pred_df[\"sunset_sec\"], unit='s').dt.strftime(\"%H:%M\")\n",
    "pred_df[\"date\"] = df_inputs[\"date\"]\n",
    "pred_df[\"city\"] = df_inputs[\"city\"]\n",
    "pred_df[\"country\"] = df_inputs[\"country\"]\n",
    "\n",
    "# Colonnes finales\n",
    "final_df = pred_df[[\"date\", \"city\", \"country\", \"temp\", \"humidity\", \"wind_speed\", \"wind_deg\", \"visibility\", \"sunrise\", \"sunset\", \"description\"]]\n",
    "\n",
    "# Export CSV\n",
    "final_df.to_csv(\"previsions_meteo_7jours_horaire.csv\", index=False)\n",
    "print(\"✅ Fichier généré : previsions_meteo_7jours_horaire.csv\")\n"
   ]
  }
 ],
 "metadata": {
  "kernelspec": {
   "display_name": "CIRA",
   "language": "python",
   "name": "python3"
  },
  "language_info": {
   "codemirror_mode": {
    "name": "ipython",
    "version": 3
   },
   "file_extension": ".py",
   "mimetype": "text/x-python",
   "name": "python",
   "nbconvert_exporter": "python",
   "pygments_lexer": "ipython3",
   "version": "3.11.5"
  }
 },
 "nbformat": 4,
 "nbformat_minor": 2
}
